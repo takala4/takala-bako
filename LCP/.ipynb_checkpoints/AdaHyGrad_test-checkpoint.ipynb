{
 "cells": [
  {
   "cell_type": "code",
   "execution_count": 1,
   "id": "cbaf400c-0a05-43fc-9b02-cc35b2eb0697",
   "metadata": {
    "tags": []
   },
   "outputs": [],
   "source": [
    "import numpy as np\n",
    "import pandas as pd\n",
    "import gurobipy as gp\n",
    "import math\n",
    "import matplotlib.pyplot as plt\n",
    "%matplotlib inline\n",
    "\n",
    "from scipy.stats import ortho_group\n",
    "plt.rcParams['font.family'] = 'Times New Roman' # font familyの設定\n",
    "plt.rcParams['mathtext.fontset'] = 'stix' # math fontの設定\n",
    "plt.rcParams[\"font.size\"] = 15 # 全体のフォントサイズ\n"
   ]
  },
  {
   "cell_type": "code",
   "execution_count": 2,
   "id": "99eb4265-38f4-4a6f-bf8e-6db507981ae0",
   "metadata": {
    "tags": []
   },
   "outputs": [
    {
     "data": {
      "text/plain": [
       "<module 'LCP_AVE' from 'C:\\\\Users\\\\takala\\\\Documents\\\\takala-bako\\\\LCP\\\\LCP_AVE.py'>"
      ]
     },
     "execution_count": 2,
     "metadata": {},
     "output_type": "execute_result"
    }
   ],
   "source": [
    "import LCP_FS   # Facchinei and Soares\n",
    "import LCP_FW   # Frank-Wolfe\n",
    "import LCP_FISTA  # Nesterov\n",
    "import LCP_DCA  # DCA\n",
    "import LCP_DCAE # DCA Eig\n",
    "import LCP_DCAT # DCA Tri\n",
    "import LCP_AVE # DCA AVE\n",
    "\n",
    "import importlib\n",
    "importlib.reload(LCP_FS)\n",
    "importlib.reload(LCP_FW)\n",
    "importlib.reload(LCP_FISTA)\n",
    "importlib.reload(LCP_DCA)\n",
    "importlib.reload(LCP_DCAE)\n",
    "importlib.reload(LCP_DCAT)\n",
    "importlib.reload(LCP_AVE)"
   ]
  },
  {
   "cell_type": "code",
   "execution_count": 127,
   "id": "2d727131-6e5f-4f10-97c5-399ec975aa55",
   "metadata": {
    "tags": []
   },
   "outputs": [],
   "source": [
    "class Parameter:\n",
    "    def __init__(self, M, b):\n",
    "        self.M = M\n",
    "        self.b = b\n",
    "        \n",
    "        self.size = M.shape[0]\n",
    "        \n",
    "        # https://ml.c.u-tokyo.ac.jp/wp-content/uploads/2020/05/optimization.pdf\n",
    "        # Gershgorin circle theorem\n",
    "        \n",
    "        ones = np.ones(self.size)\n",
    "        abs_M = abs(M)\n",
    "        self.L_like = (abs_M@ones - (abs_M@np.eye(self.size))@ones + (M@np.eye(self.size))@ones).max()\n",
    "        \n",
    "        \n",
    "class AdaGrad:\n",
    "    def __init__(self, prm):\n",
    "        self.prm = prm\n",
    "        \n",
    "    def f(self, x):\n",
    "        return (1/2)*(x@self.prm.M@x) + b@x\n",
    "    \n",
    "    def df(self, x):\n",
    "        return self.prm.M@x + b\n",
    "    \n",
    "    def solve(self, x_init = None, max_itr=10, cut=10**(-4), a=0.01):\n",
    "        \n",
    "        epsilon = 10**(-6)\n",
    "        \n",
    "        f_dic = {}\n",
    "        df_dic = {}\n",
    "        x_dic  = {}\n",
    "        \n",
    "        x_dic[0] = x_init\n",
    "        \n",
    "        S_dic  = {}\n",
    "        S_dic[-1] = np.zeros(self.prm.size)\n",
    "        \n",
    "        for itr in range(max_itr):\n",
    "            f_dic[itr] = self.f(x_dic[itr])\n",
    "            df_dic[itr] = self.df(x_dic[itr])\n",
    "            \n",
    "            S_dic[itr] = S_dic[itr-1] + df_dic[itr]*df_dic[itr]\n",
    "            \n",
    "            x_dic[itr+1] = np.vectorize(lambda x: max(0.0, x))(x_dic[itr] - (a/(epsilon+np.sqrt(S_dic[itr])))*df_dic[itr])\n",
    "            \n",
    "            # Stop\n",
    "            if np.linalg.norm(x_dic[itr+1]-x_dic[itr]) < cut:\n",
    "                \n",
    "                f_dic[itr+1] = self.f(x_dic[itr+1])\n",
    "                df_dic[itr+1] = self.df(x_dic[itr+1])\n",
    "                break\n",
    "       \n",
    "        return x_dic, f_dic\n",
    "            \n",
    "    \n",
    "class AdaHyGrad:\n",
    "    def __init__(self, prm):\n",
    "        self.prm = prm\n",
    "        \n",
    "    def f(self, x):\n",
    "        return (1/2)*(x@self.prm.M@x) + b@x\n",
    "    \n",
    "    def df(self, x):\n",
    "        return self.prm.M@x + b\n",
    "    \n",
    "    def solve(self, x_init = None, max_itr=10, cut=10**(-4), a=0.01, mu=0.01):\n",
    "        \n",
    "        epsilon = 0.0\n",
    "        \n",
    "        f_dic = {}\n",
    "        df_dic = {}\n",
    "        x_dic  = {}\n",
    "        a_dic  = {}\n",
    "        mu_dic = {}\n",
    "        \n",
    "        x_dic[0] = x_init\n",
    "        \n",
    "        \n",
    "        S_dic  = {}\n",
    "        S_dic[-1] = np.zeros(self.prm.size)\n",
    "        \n",
    "        mu_dic = {}\n",
    "        \n",
    "        \n",
    "        for itr in range(max_itr):\n",
    "            f_dic[itr] = self.f(x_dic[itr])\n",
    "            df_dic[itr] = self.df(x_dic[itr])\n",
    "            S_dic[itr] = S_dic[itr-1] + df_dic[itr]*df_dic[itr]\n",
    "            \n",
    "            if itr==0:\n",
    "                mu_dic[0] = mu\n",
    "                a_dic[0] = a\n",
    "            else:\n",
    "                # Adapting the Learning Rate of the Learning Rate in Hypergradient Descent\n",
    "                mu_dic[itr] = 1/(self.prm.L_like*(df_dic[itr-1]@df_dic[itr-1]))\n",
    "                a_dic[itr] = a_dic[itr-1] + mu_dic[itr]*(df_dic[itr]@df_dic[itr-1])\n",
    "\n",
    "            x_dic[itr+1] = np.vectorize(lambda x: max(0.0, x))(x_dic[itr] - (a_dic[itr]/(epsilon+np.sqrt(S_dic[itr])))*df_dic[itr])\n",
    "                        \n",
    "            # Stop\n",
    "            if np.linalg.norm(x_dic[itr+1]-x_dic[itr]) < cut:\n",
    "                f_dic[itr+1] = self.f(x_dic[itr+1])\n",
    "                df_dic[itr+1] = self.df(x_dic[itr+1])\n",
    "                break\n",
    "                \n",
    "            self.a_dic = a_dic \n",
    "       \n",
    "        return x_dic, f_dic"
   ]
  },
  {
   "cell_type": "code",
   "execution_count": 219,
   "id": "51e32ef3-b088-463b-a388-67e7dd65d2c7",
   "metadata": {
    "tags": []
   },
   "outputs": [],
   "source": [
    "# Make Test Case\n",
    "\n",
    "def Make_Coffee(N):\n",
    "    sp = 128\n",
    "    M = np.diag(np.ones(N)*4) - np.roll(np.eye(N), 1, axis=1) - np.roll(np.eye(N), 1, axis=0)\n",
    "    M[N-1, 0] = 0\n",
    "    M[0, N-1] = 0\n",
    "    b = np.array([math.sin((i+1) * math.pi/sp) for i in range(N)])\n",
    "    return M, b\n",
    "\n",
    "\n",
    "def Make_Tea(N, PD=True):  #not symetric\n",
    "    sp=0.5\n",
    "    x = np.linspace(0,1,N)\n",
    "    x_m = np.where(x<(sp), 0.0, x)\n",
    "    \n",
    "    if PD:\n",
    "        D = np.diag(np.random.rand(N)) # positive definite\n",
    "    else:\n",
    "        D = np.diag(np.random.rand(N)-0.5) # not positive definite\n",
    "    \n",
    "    Q = ortho_group.rvs(dim=N)\n",
    "    \n",
    "    M = np.linalg.inv(Q)@D@Q # not symetric\n",
    "    b = - np.dot(M, x_m) + (x - x_m)\n",
    "    \n",
    "    return M, b\n",
    "\n",
    "\n",
    "def Make_Chai(N, PD=True): #symetric\n",
    "    sp=0.5\n",
    "    x = np.linspace(0,1,N)\n",
    "    x_m = np.where(x<(sp), 0.0, x)\n",
    "    \n",
    "    if PD:\n",
    "        D = np.diag(np.random.rand(N)) # positive definite\n",
    "    else:\n",
    "        D = np.diag(np.random.rand(N)-0.5) # not positive definite\n",
    "    Q = ortho_group.rvs(dim=N)\n",
    "    \n",
    "    M = Q.T@D@Q # symetric\n",
    "    b = - np.dot(M, x_m) + (x - x_m)\n",
    "    return M,b\n",
    "    \n",
    "\n",
    "def Make_LCP6(N):\n",
    "    M = np.zeros(shape=(N,N))\n",
    "    for i in range(N):\n",
    "        for j in range(N):\n",
    "            n = min(i,j)\n",
    "            M[i,j] = 4*(n+1)-2\n",
    "    M = M - np.eye(N)\n",
    "    b = - np.ones(N)\n",
    "    return M,b\n",
    "\n",
    "    \n",
    "def Make_Lemke(N):\n",
    "    path = 'Lemke100/'\n",
    "    M = pd.read_csv(path + 'M.csv', encoding='utf-8-sig', ).values\n",
    "    b = pd.read_csv(path + 'b.csv', encoding='utf-8-sig', ).values.flatten()\n",
    "    return M, b\n",
    "\n",
    "class A9:\n",
    "    def coef(self, n):\n",
    "        M = np.eye(n)\n",
    "        for i in range(n-1):\n",
    "            M[i, i+1:] = 2\n",
    "        q = -np.ones(n)\n",
    "        return M, q\n",
    "        \n",
    "    def evaluate(self, x):\n",
    "        n = x.size\n",
    "        M, q = self.coef(n)\n",
    "        ret = np.dot(x, M@x) + q.T@x\n",
    "        return ret\n",
    "    \n",
    "    \n",
    "class A6:\n",
    "    def coef(self, n):\n",
    "        diag = [4 * i - 3 for i in range(1, n + 1)]\n",
    "        M = np.diag(diag)\n",
    "        for i in range(n-1):\n",
    "            M[i, i+1:] = 4 * (i + 1) - 2\n",
    "        M = np.triu(M) + np.triu(M).T - np.diag(M.diagonal())\n",
    "        q = -np.ones(n)\n",
    "        return M, q\n",
    "    \n",
    "    def evaluate(self, x):\n",
    "        n = x.size\n",
    "        M, q = self.coef(n)\n",
    "        ret = np.dot(x, M@x) + q.T@x\n",
    "        return ret\n",
    "    \n",
    "class A1:\n",
    "    def coef(self, n):\n",
    "        M = np.array([[0, -1, 2], [2, 0, -2], [-1, 1, 0]])\n",
    "        q = np.array([3, -6, 1])\n",
    "        return M, q\n",
    "    \n",
    "    def evaluate(self, x):\n",
    "        n = x.size\n",
    "        M, q = self.coef(n)\n",
    "        ret = np.dot(x, M@x) + q.T@x\n",
    "        return ret\n",
    "\n",
    "        \n",
    "    def problem_name(self):\n",
    "        return \"LCP1\"\n"
   ]
  },
  {
   "cell_type": "code",
   "execution_count": 220,
   "id": "f325222c-2584-4c86-ba3f-afe04ae56ab2",
   "metadata": {
    "tags": []
   },
   "outputs": [],
   "source": [
    "N = 300\n",
    "\n",
    "M, b = Make_Chai(N, PD=True)\n",
    "M, b = A6().coef(N)"
   ]
  },
  {
   "cell_type": "code",
   "execution_count": 221,
   "id": "03ad6c1d-0c79-4723-bdd9-8a9ea8dccfe7",
   "metadata": {
    "tags": []
   },
   "outputs": [],
   "source": [
    "prm = Parameter(M, b)"
   ]
  },
  {
   "cell_type": "code",
   "execution_count": 251,
   "id": "b7902989-d71a-49b3-a230-074448fc5cb8",
   "metadata": {
    "tags": []
   },
   "outputs": [],
   "source": [
    "adagrad_model = AdaGrad(prm)\n",
    "adahygrad_model = AdaHyGrad(prm)\n",
    "x_ini = np.ones(N)\n"
   ]
  },
  {
   "cell_type": "code",
   "execution_count": 267,
   "id": "a3acd523-e2f0-43fa-8238-fae7acb8a8f1",
   "metadata": {
    "tags": []
   },
   "outputs": [
    {
     "name": "stdout",
     "output_type": "stream",
     "text": [
      "CPU times: total: 188 ms\n",
      "Wall time: 56.1 ms\n"
     ]
    }
   ],
   "source": [
    "%%time\n",
    "x_dic, f_dic = adagrad_model.solve(x_ini, max_itr=1000, a=20.0)"
   ]
  },
  {
   "cell_type": "code",
   "execution_count": 268,
   "id": "7725e1a7-43f3-426c-b9d4-d0da7fa2b925",
   "metadata": {
    "tags": []
   },
   "outputs": [],
   "source": [
    "x_hy_dic, f_hy_dic = adahygrad_model.solve(x_ini, max_itr=500, a=10**(-1), mu=10**(-1))"
   ]
  },
  {
   "cell_type": "code",
   "execution_count": 269,
   "id": "72dd2f50-e715-49f6-9cd5-8fc7d3a057ee",
   "metadata": {
    "tags": []
   },
   "outputs": [
    {
     "data": {
      "image/png": "[encoded data removed]",
      "text/plain": [
       "<Figure size 800x500 with 1 Axes>"
      ]
     },
     "metadata": {},
     "output_type": "display_data"
    }
   ],
   "source": [
    "plt.figure(figsize=(8,5))\n",
    "\n",
    "plt.plot(np.array(list(f_dic.values())), color='red', label='AdaGrad')\n",
    "# plt.plot(np.array(list(f_hy_dic.values())), color='blue', label='AdaHyGrad')\n",
    "         \n",
    "plt.xlabel('# of itr')\n",
    "# plt.yscale('log')\n",
    "plt.grid()"
   ]
  },
  {
   "cell_type": "code",
   "execution_count": 270,
   "id": "ceef342d-5387-4fdc-bcea-c83f57481a38",
   "metadata": {
    "tags": []
   },
   "outputs": [
    {
     "data": {
      "text/plain": [
       "[<matplotlib.lines.Line2D at 0x2a8fd6554d0>]"
      ]
     },
     "execution_count": 270,
     "metadata": {},
     "output_type": "execute_result"
    },
    {
     "data": {
      "image/png": "[encoded data removed]",
      "text/plain": [
       "<Figure size 640x480 with 1 Axes>"
      ]
     },
     "metadata": {},
     "output_type": "display_data"
    }
   ],
   "source": [
    "x = list(x_dic.values())[-1]\n",
    "plt.plot(x)"
   ]
  },
  {
   "cell_type": "code",
   "execution_count": 271,
   "id": "a1d4e65e-ea30-487f-89f5-65dfefa0a77c",
   "metadata": {
    "tags": []
   },
   "outputs": [
    {
     "data": {
      "text/plain": [
       "array([0.99717482, 0.        , 0.        , 0.        , 0.        ,\n",
       "       0.        , 0.        , 0.        , 0.        , 0.        ,\n",
       "       0.        , 0.        , 0.        , 0.        , 0.        ,\n",
       "       0.        , 0.        , 0.        , 0.        , 0.        ,\n",
       "       0.        , 0.        , 0.        , 0.        , 0.        ,\n",
       "       0.        , 0.        , 0.        , 0.        , 0.        ,\n",
       "       0.        , 0.        , 0.        , 0.        , 0.        ,\n",
       "       0.        , 0.        , 0.        , 0.        , 0.        ,\n",
       "       0.        , 0.        , 0.        , 0.        , 0.        ,\n",
       "       0.        , 0.        , 0.        , 0.        , 0.        ,\n",
       "       0.        , 0.        , 0.        , 0.        , 0.        ,\n",
       "       0.        , 0.        , 0.        , 0.        , 0.        ,\n",
       "       0.        , 0.        , 0.        , 0.        , 0.        ,\n",
       "       0.        , 0.        , 0.        , 0.        , 0.        ,\n",
       "       0.        , 0.        , 0.        , 0.        , 0.        ,\n",
       "       0.        , 0.        , 0.        , 0.        , 0.        ,\n",
       "       0.        , 0.        , 0.        , 0.        , 0.        ,\n",
       "       0.        , 0.        , 0.        , 0.        , 0.        ,\n",
       "       0.        , 0.        , 0.        , 0.        , 0.        ,\n",
       "       0.        , 0.        , 0.        , 0.        , 0.        ,\n",
       "       0.        , 0.        , 0.        , 0.        , 0.        ,\n",
       "       0.        , 0.        , 0.        , 0.        , 0.        ,\n",
       "       0.        , 0.        , 0.        , 0.        , 0.        ,\n",
       "       0.        , 0.        , 0.        , 0.        , 0.        ,\n",
       "       0.        , 0.        , 0.        , 0.        , 0.        ,\n",
       "       0.        , 0.        , 0.        , 0.        , 0.        ,\n",
       "       0.        , 0.        , 0.        , 0.        , 0.        ,\n",
       "       0.        , 0.        , 0.        , 0.        , 0.        ,\n",
       "       0.        , 0.        , 0.        , 0.        , 0.        ,\n",
       "       0.        , 0.        , 0.        , 0.        , 0.        ,\n",
       "       0.        , 0.        , 0.        , 0.        , 0.        ,\n",
       "       0.        , 0.        , 0.        , 0.        , 0.        ,\n",
       "       0.        , 0.        , 0.        , 0.        , 0.        ,\n",
       "       0.        , 0.        , 0.        , 0.        , 0.        ,\n",
       "       0.        , 0.        , 0.        , 0.        , 0.        ,\n",
       "       0.        , 0.        , 0.        , 0.        , 0.        ,\n",
       "       0.        , 0.        , 0.        , 0.        , 0.        ,\n",
       "       0.        , 0.        , 0.        , 0.        , 0.        ,\n",
       "       0.        , 0.        , 0.        , 0.        , 0.        ,\n",
       "       0.        , 0.        , 0.        , 0.        , 0.        ,\n",
       "       0.        , 0.        , 0.        , 0.        , 0.        ,\n",
       "       0.        , 0.        , 0.        , 0.        , 0.        ,\n",
       "       0.        , 0.        , 0.        , 0.        , 0.        ,\n",
       "       0.        , 0.        , 0.        , 0.        , 0.        ,\n",
       "       0.        , 0.        , 0.        , 0.        , 0.        ,\n",
       "       0.        , 0.        , 0.        , 0.        , 0.        ,\n",
       "       0.        , 0.        , 0.        , 0.        , 0.        ,\n",
       "       0.        , 0.        , 0.        , 0.        , 0.        ,\n",
       "       0.        , 0.        , 0.        , 0.        , 0.        ,\n",
       "       0.        , 0.        , 0.        , 0.        , 0.        ,\n",
       "       0.        , 0.        , 0.        , 0.        , 0.        ,\n",
       "       0.        , 0.        , 0.        , 0.        , 0.        ,\n",
       "       0.        , 0.        , 0.        , 0.        , 0.        ,\n",
       "       0.        , 0.        , 0.        , 0.        , 0.        ,\n",
       "       0.        , 0.        , 0.        , 0.        , 0.        ,\n",
       "       0.        , 0.        , 0.        , 0.        , 0.        ,\n",
       "       0.        , 0.        , 0.        , 0.        , 0.        ,\n",
       "       0.        , 0.        , 0.        , 0.        , 0.        ,\n",
       "       0.        , 0.        , 0.        , 0.        , 0.        ,\n",
       "       0.        , 0.        , 0.        , 0.        , 0.        ])"
      ]
     },
     "execution_count": 271,
     "metadata": {},
     "output_type": "execute_result"
    }
   ],
   "source": [
    "x"
   ]
  },
  {
   "cell_type": "code",
   "execution_count": 272,
   "id": "ad10b4b6-dccd-4c71-9359-af1513632b4b",
   "metadata": {
    "tags": []
   },
   "outputs": [
    {
     "data": {
      "text/plain": [
       "[<matplotlib.lines.Line2D at 0x2a8f9f23e50>]"
      ]
     },
     "execution_count": 272,
     "metadata": {},
     "output_type": "execute_result"
    },
    {
     "data": {
      "image/png": "[encoded data removed]",
      "text/plain": [
       "<Figure size 640x480 with 1 Axes>"
      ]
     },
     "metadata": {},
     "output_type": "display_data"
    }
   ],
   "source": [
    "plt.plot(M@x + b)"
   ]
  },
  {
   "cell_type": "code",
   "execution_count": 213,
   "id": "a0a8828e-d9e0-4a82-8a52-ea0b5370838c",
   "metadata": {
    "tags": []
   },
   "outputs": [
    {
     "data": {
      "text/plain": [
       "-0.17353448783444758"
      ]
     },
     "execution_count": 213,
     "metadata": {},
     "output_type": "execute_result"
    }
   ],
   "source": [
    "(x.T@M@x) + b@x"
   ]
  },
  {
   "cell_type": "code",
   "execution_count": null,
   "id": "2dc3d63a-eb95-45ef-8825-c4908c207b84",
   "metadata": {},
   "outputs": [],
   "source": []
  }
 ],
 "metadata": {
  "kernelspec": {
   "display_name": "Python 3 (ipykernel)",
   "language": "python",
   "name": "python3"
  },
  "language_info": {
   "codemirror_mode": {
    "name": "ipython",
    "version": 3
   },
   "file_extension": ".py",
   "mimetype": "text/x-python",
   "name": "python",
   "nbconvert_exporter": "python",
   "pygments_lexer": "ipython3",
   "version": "3.11.5"
  }
 },
 "nbformat": 4,
 "nbformat_minor": 5
}
