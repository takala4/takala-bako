{
 "cells": [
  {
   "cell_type": "code",
   "execution_count": 50,
   "metadata": {
    "tags": []
   },
   "outputs": [],
   "source": [
    "import numpy as np\n",
    "import pandas as pd\n",
    "import gurobipy as gp\n",
    "import math\n",
    "import matplotlib.pyplot as plt\n",
    "%matplotlib inline\n",
    "\n",
    "from scipy.stats import ortho_group\n",
    "plt.rcParams['font.family'] = 'Times New Roman' # font familyの設定\n",
    "plt.rcParams['mathtext.fontset'] = 'stix' # math fontの設定\n",
    "plt.rcParams[\"font.size\"] = 15 # 全体のフォントサイズ\n"
   ]
  },
  {
   "cell_type": "code",
   "execution_count": 51,
   "metadata": {
    "tags": []
   },
   "outputs": [
    {
     "data": {
      "text/plain": [
       "<module 'LCP_AVE' from 'C:\\\\Users\\\\takala\\\\Documents\\\\takala-bako\\\\LCP\\\\LCP_AVE.py'>"
      ]
     },
     "execution_count": 51,
     "metadata": {},
     "output_type": "execute_result"
    }
   ],
   "source": [
    "import LCP_FS   # Facchinei and Soares\n",
    "import LCP_FW   # Frank-Wolfe\n",
    "import LCP_FISTA  # Nesterov\n",
    "import LCP_DCA  # DCA\n",
    "import LCP_DCAE # DCA Eig\n",
    "import LCP_DCAT # DCA Tri\n",
    "import LCP_AVE # DCA AVE\n",
    "\n",
    "import importlib\n",
    "importlib.reload(LCP_FS)\n",
    "importlib.reload(LCP_FW)\n",
    "importlib.reload(LCP_FISTA)\n",
    "importlib.reload(LCP_DCA)\n",
    "importlib.reload(LCP_DCAE)\n",
    "importlib.reload(LCP_DCAT)\n",
    "importlib.reload(LCP_AVE)"
   ]
  },
  {
   "cell_type": "code",
   "execution_count": 52,
   "metadata": {
    "tags": []
   },
   "outputs": [],
   "source": [
    "# Make Test Case\n",
    "\n",
    "def Make_Coffee(N):\n",
    "    sp = 128\n",
    "    M = np.diag(np.ones(N)*4) - np.roll(np.eye(N), 1, axis=1) - np.roll(np.eye(N), 1, axis=0)\n",
    "    M[N-1, 0] = 0\n",
    "    M[0, N-1] = 0\n",
    "    b = np.array([math.sin((i+1) * math.pi/sp) for i in range(N)])\n",
    "    return M, b\n",
    "\n",
    "\n",
    "def Make_Tea(N, PD=True):  #not symetric\n",
    "    sp=0.5\n",
    "    x = np.linspace(0,1,N)\n",
    "    x_m = np.where(x<(sp), 0.0, x)\n",
    "    \n",
    "    if PD:\n",
    "        D = np.diag(np.random.rand(N)) # positive definite\n",
    "    else:\n",
    "        D = np.diag(np.random.rand(N)-0.5) # not positive definite\n",
    "    \n",
    "    Q = ortho_group.rvs(dim=N)\n",
    "    \n",
    "    M = np.linalg.inv(Q)@D@Q # not symetric\n",
    "    b = - np.dot(M, x_m) + (x - x_m)\n",
    "    \n",
    "    return M, b\n",
    "\n",
    "\n",
    "def Make_Chai(N, PD=True): #symetric\n",
    "    sp=0.5\n",
    "    x = np.linspace(0,1,N)\n",
    "    x_m = np.where(x<(sp), 0.0, x)\n",
    "    \n",
    "    if PD:\n",
    "        D = np.diag(np.random.rand(N)) # positive definite\n",
    "    else:\n",
    "        D = np.diag(np.random.rand(N)-0.5) # not positive definite\n",
    "    Q = ortho_group.rvs(dim=N)\n",
    "    \n",
    "    M = Q.T@D@Q # symetric\n",
    "    b = - np.dot(M, x_m) + (x - x_m)\n",
    "    return M,b\n",
    "    \n",
    "\n",
    "def Make_LCP6(N):\n",
    "    M = np.zeros(shape=(N,N))\n",
    "    for i in range(N):\n",
    "        for j in range(N):\n",
    "            n = min(i,j)\n",
    "            M[i,j] = 4*(n+1)-2\n",
    "    M = M - np.eye(N)\n",
    "    b = - np.ones(N)\n",
    "    return M,b\n",
    "\n",
    "    \n",
    "def Make_Lemke(N):\n",
    "    path = 'Lemke100/'\n",
    "    M = pd.read_csv(path + 'M.csv', encoding='utf-8-sig', ).values\n",
    "    b = pd.read_csv(path + 'b.csv', encoding='utf-8-sig', ).values.flatten()\n",
    "    return M, b"
   ]
  },
  {
   "cell_type": "code",
   "execution_count": 53,
   "metadata": {
    "tags": []
   },
   "outputs": [],
   "source": [
    "class A9:\n",
    "    def coef(self, n):\n",
    "        M = np.eye(n)\n",
    "        for i in range(n-1):\n",
    "            M[i, i+1:] = 2\n",
    "        q = -np.ones(n)\n",
    "        return M, q\n",
    "        \n",
    "    def evaluate(self, x):\n",
    "        n = x.size\n",
    "        M, q = self.coef(n)\n",
    "        ret = np.dot(x, M@x) + q.T@x\n",
    "        return ret\n",
    "    \n",
    "    \n",
    "class A6:\n",
    "    def coef(self, n):\n",
    "        diag = [4 * i - 3 for i in range(1, n + 1)]\n",
    "        M = np.diag(diag)\n",
    "        for i in range(n-1):\n",
    "            M[i, i+1:] = 4 * (i + 1) - 2\n",
    "        M = np.triu(M) + np.triu(M).T - np.diag(M.diagonal())\n",
    "        q = -np.ones(n)\n",
    "        return M, q\n",
    "    \n",
    "    def evaluate(self, x):\n",
    "        n = x.size\n",
    "        M, q = self.coef(n)\n",
    "        ret = np.dot(x, M@x) + q.T@x\n",
    "        return ret\n",
    "    \n",
    "class A1:\n",
    "    def coef(self, n):\n",
    "        M = np.array([[0, -1, 2], [2, 0, -2], [-1, 1, 0]])\n",
    "        q = np.array([3, -6, 1])\n",
    "        return M, q\n",
    "    \n",
    "    def evaluate(self, x):\n",
    "        n = x.size\n",
    "        M, q = self.coef(n)\n",
    "        ret = np.dot(x, M@x) + q.T@x\n",
    "        return ret\n",
    "\n",
    "        \n",
    "    def problem_name(self):\n",
    "        return \"LCP1\"\n"
   ]
  },
  {
   "cell_type": "code",
   "execution_count": 75,
   "metadata": {
    "tags": []
   },
   "outputs": [],
   "source": [
    "N = 500\n",
    "\n",
    "np.random.seed(10)\n",
    "\n",
    "# M, b = Make_Coffee(N)\n",
    "\n",
    "#not symetric\n",
    "# M, b = Make_Tea(N, PD=False)\n",
    "# M, b = Make_Tea(N, PD=True)\n",
    "\n",
    "#symetric\n",
    "# M, b = Make_Chai(N, PD=False)\n",
    "M, b = Make_Chai(N, PD=True)\n",
    "\n",
    "\n",
    "# M, b = Make_LCP6(N)\n",
    "\n",
    "M, b = A6().coef(N)\n",
    "# M, b = A1().coef(N)"
   ]
  },
  {
   "cell_type": "code",
   "execution_count": 76,
   "metadata": {
    "tags": []
   },
   "outputs": [
    {
     "name": "stdout",
     "output_type": "stream",
     "text": [
      "CPU times: total: 36 s\n",
      "Wall time: 9.09 s\n"
     ]
    }
   ],
   "source": [
    "%%time\n",
    "# Newton method by Facchinei and Soares\n",
    "FS_model = LCP_FS.model(M, b)\n",
    "FS_x, FS_x_list = FS_model.solve(err=10**(-6), max_itr=100, x0=np.ones(N))\n",
    "# FS_x"
   ]
  },
  {
   "cell_type": "code",
   "execution_count": 77,
   "metadata": {
    "tags": []
   },
   "outputs": [
    {
     "data": {
      "text/plain": [
       "[<matplotlib.lines.Line2D at 0x22b3b646550>]"
      ]
     },
     "execution_count": 77,
     "metadata": {},
     "output_type": "execute_result"
    },
    {
     "data": {
      "image/png": "[encoded data removed]",
      "text/plain": [
       "<Figure size 640x480 with 1 Axes>"
      ]
     },
     "metadata": {},
     "output_type": "display_data"
    }
   ],
   "source": [
    "plt.plot(FS_x)"
   ]
  },
  {
   "cell_type": "code",
   "execution_count": 79,
   "metadata": {
    "tags": []
   },
   "outputs": [
    {
     "data": {
      "text/plain": [
       "166.24311373364057"
      ]
     },
     "execution_count": 79,
     "metadata": {},
     "output_type": "execute_result"
    }
   ],
   "source": [
    "(FS_x.T@M@FS_x) + b@FS_x"
   ]
  },
  {
   "cell_type": "code",
   "execution_count": 59,
   "metadata": {
    "tags": []
   },
   "outputs": [
    {
     "name": "stdout",
     "output_type": "stream",
     "text": [
      "CPU times: total: 13.7 s\n",
      "Wall time: 2.54 s\n"
     ]
    }
   ],
   "source": [
    "%%time\n",
    "# importlib.reload(LCP_FW)\n",
    "# Frank-wolfe method\n",
    "FW_model = LCP_FW.model(M, b)\n",
    "FW_x, FW_x_list = FW_model.solve(err=10**(-6), max_itr=100)\n",
    "# FW_x"
   ]
  },
  {
   "cell_type": "code",
   "execution_count": 80,
   "metadata": {
    "tags": []
   },
   "outputs": [
    {
     "name": "stdout",
     "output_type": "stream",
     "text": [
      "CPU times: total: 828 ms\n",
      "Wall time: 338 ms\n"
     ]
    }
   ],
   "source": [
    "%%time\n",
    "# importlib.reload(LCP_AVE)\n",
    "# AVE method\n",
    "AVE_model = LCP_AVE.model(M, b)\n",
    "AVE_x, AVE_x_list = AVE_model.solve(x0=np.zeros(N), err=10**(-6), max_itr=100)\n",
    "# AVE_x"
   ]
  },
  {
   "cell_type": "code",
   "execution_count": 63,
   "metadata": {
    "tags": []
   },
   "outputs": [
    {
     "name": "stdout",
     "output_type": "stream",
     "text": [
      "CPU times: total: 6.97 s\n",
      "Wall time: 1.84 s\n"
     ]
    }
   ],
   "source": [
    "%%time\n",
    "# importlib.reload(LCP_FISTA)\n",
    "# Nesterov-accelerated-gradient-descent for the merit function (F)\n",
    "FISTA_F_model = LCP_FISTA.model(M, b)\n",
    "FISTA_F_x, FISTA_F_x_list = FISTA_F_model.solve_F(err=10**(-6), L=0.001, max_itr=100)\n",
    "# FISTA_F_x"
   ]
  },
  {
   "cell_type": "code",
   "execution_count": 64,
   "metadata": {
    "tags": []
   },
   "outputs": [
    {
     "name": "stdout",
     "output_type": "stream",
     "text": [
      "Restart\n",
      "Restart\n",
      "Restart\n",
      "Restart\n",
      "CPU times: total: 5.86 s\n",
      "Wall time: 1.54 s\n"
     ]
    }
   ],
   "source": [
    "%%time\n",
    "# importlib.reload(LCP_FISTA)\n",
    "# Nesterov-accelerated-gradient-descent for the merit function (M)\n",
    "FISTA_M_model = LCP_FISTA.model(M, b)\n",
    "FISTA_M_x, FISTA_M_x_list = FISTA_M_model.solve_M(err=10**(-6), L=0.001, max_itr=100)\n",
    "# FISTA_M_x"
   ]
  },
  {
   "cell_type": "code",
   "execution_count": 65,
   "metadata": {
    "tags": []
   },
   "outputs": [
    {
     "name": "stdout",
     "output_type": "stream",
     "text": [
      "1023.6891675418699\n",
      "424.2661666463137\n",
      "268.06796098469806\n",
      "205.06214883571303\n",
      "169.7524046113395\n",
      "145.69459399101675\n",
      "127.0587783042924\n",
      "111.80142468535418\n",
      "98.84140723917498\n",
      "87.60375166397829\n",
      "77.67486087208543\n",
      "68.82007129969467\n",
      "60.90288413790678\n",
      "53.809273457314276\n",
      "47.442817278584386\n",
      "41.73322839066017\n",
      "36.63467309262534\n",
      "32.05470910062979\n",
      "27.959567374893396\n",
      "24.310728445989113\n",
      "21.035005735067713\n",
      "18.088349817463495\n",
      "15.440278834704188\n",
      "13.075207346254615\n",
      "10.965808126218164\n",
      "9.089063679053027\n",
      "7.422911688932402\n",
      "5.9652486853770625\n",
      "4.703536891631558\n",
      "3.6230190561721116\n",
      "2.7172838855281185\n",
      "1.9782863942674425\n",
      "1.385879493877269\n",
      "0.9230928706332548\n",
      "0.5728070740479723\n",
      "0.3284967923895721\n",
      "0.16754222187924483\n",
      "0.08009751389408848\n",
      "0.03539165568139424\n",
      "0.013586479929870166\n",
      "0.0045586572285714055\n",
      "0.0016893171708431964\n",
      "0.0006677717468903666\n",
      "0.00022864810864575702\n",
      "8.155110724317183e-05\n",
      "3.214421359132302e-05\n",
      "1.2099305962465223e-05\n",
      "CPU times: total: 2min 33s\n",
      "Wall time: 34.2 s\n"
     ]
    }
   ],
   "source": [
    "%%time\n",
    "importlib.reload(LCP_DCA)\n",
    "DCA_model = LCP_DCA.model(M, b)\n",
    "\n",
    "DCA_x, DCA_x_list = DCA_model.solve(err=10**(-6), max_itr=50)\n",
    "# DCA_x"
   ]
  },
  {
   "cell_type": "code",
   "execution_count": 83,
   "metadata": {
    "tags": []
   },
   "outputs": [
    {
     "name": "stdout",
     "output_type": "stream",
     "text": [
      "0.0\n",
      "Break-code-1\n",
      "CPU times: total: 4.48 s\n",
      "Wall time: 1.25 s\n"
     ]
    }
   ],
   "source": [
    "%%time\n",
    "importlib.reload(LCP_DCAE)\n",
    "DCAE_model = LCP_DCAE.model(M, b)\n",
    "\n",
    "DCAE_x, DCAE_x_list = DCAE_model.solve(err=10**(-6), max_itr=100)\n",
    "# DCAE_x, DCAE_x_list = DCAE_model.solve(x0=np.ones(N), err=10**(-6), max_itr=50)\n",
    "# DCAE_x"
   ]
  },
  {
   "cell_type": "code",
   "execution_count": 85,
   "metadata": {
    "tags": []
   },
   "outputs": [
    {
     "name": "stdout",
     "output_type": "stream",
     "text": [
      "CPU times: total: 31.2 ms\n",
      "Wall time: 48.5 ms\n"
     ]
    }
   ],
   "source": [
    "%%time\n",
    "importlib.reload(LCP_DCAT)\n",
    "DCAT_model = LCP_DCAT.model(M, b)\n",
    "\n",
    "DCAT_x, DCAT_x_list = DCAT_model.solve(err=10**(-6), max_itr=100)\n",
    "# DCAT_x"
   ]
  },
  {
   "cell_type": "code",
   "execution_count": 86,
   "metadata": {
    "tags": []
   },
   "outputs": [
    {
     "data": {
      "text/plain": [
       "array([1., 0., 0., 0., 0., 0., 0., 0., 0., 0., 0., 0., 0., 0., 0., 0., 0.,\n",
       "       0., 0., 0., 0., 0., 0., 0., 0., 0., 0., 0., 0., 0., 0., 0., 0., 0.,\n",
       "       0., 0., 0., 0., 0., 0., 0., 0., 0., 0., 0., 0., 0., 0., 0., 0., 0.,\n",
       "       0., 0., 0., 0., 0., 0., 0., 0., 0., 0., 0., 0., 0., 0., 0., 0., 0.,\n",
       "       0., 0., 0., 0., 0., 0., 0., 0., 0., 0., 0., 0., 0., 0., 0., 0., 0.,\n",
       "       0., 0., 0., 0., 0., 0., 0., 0., 0., 0., 0., 0., 0., 0., 0., 0., 0.,\n",
       "       0., 0., 0., 0., 0., 0., 0., 0., 0., 0., 0., 0., 0., 0., 0., 0., 0.,\n",
       "       0., 0., 0., 0., 0., 0., 0., 0., 0., 0., 0., 0., 0., 0., 0., 0., 0.,\n",
       "       0., 0., 0., 0., 0., 0., 0., 0., 0., 0., 0., 0., 0., 0., 0., 0., 0.,\n",
       "       0., 0., 0., 0., 0., 0., 0., 0., 0., 0., 0., 0., 0., 0., 0., 0., 0.,\n",
       "       0., 0., 0., 0., 0., 0., 0., 0., 0., 0., 0., 0., 0., 0., 0., 0., 0.,\n",
       "       0., 0., 0., 0., 0., 0., 0., 0., 0., 0., 0., 0., 0., 0., 0., 0., 0.,\n",
       "       0., 0., 0., 0., 0., 0., 0., 0., 0., 0., 0., 0., 0., 0., 0., 0., 0.,\n",
       "       0., 0., 0., 0., 0., 0., 0., 0., 0., 0., 0., 0., 0., 0., 0., 0., 0.,\n",
       "       0., 0., 0., 0., 0., 0., 0., 0., 0., 0., 0., 0., 0., 0., 0., 0., 0.,\n",
       "       0., 0., 0., 0., 0., 0., 0., 0., 0., 0., 0., 0., 0., 0., 0., 0., 0.,\n",
       "       0., 0., 0., 0., 0., 0., 0., 0., 0., 0., 0., 0., 0., 0., 0., 0., 0.,\n",
       "       0., 0., 0., 0., 0., 0., 0., 0., 0., 0., 0., 0., 0., 0., 0., 0., 0.,\n",
       "       0., 0., 0., 0., 0., 0., 0., 0., 0., 0., 0., 0., 0., 0., 0., 0., 0.,\n",
       "       0., 0., 0., 0., 0., 0., 0., 0., 0., 0., 0., 0., 0., 0., 0., 0., 0.,\n",
       "       0., 0., 0., 0., 0., 0., 0., 0., 0., 0., 0., 0., 0., 0., 0., 0., 0.,\n",
       "       0., 0., 0., 0., 0., 0., 0., 0., 0., 0., 0., 0., 0., 0., 0., 0., 0.,\n",
       "       0., 0., 0., 0., 0., 0., 0., 0., 0., 0., 0., 0., 0., 0., 0., 0., 0.,\n",
       "       0., 0., 0., 0., 0., 0., 0., 0., 0., 0., 0., 0., 0., 0., 0., 0., 0.,\n",
       "       0., 0., 0., 0., 0., 0., 0., 0., 0., 0., 0., 0., 0., 0., 0., 0., 0.,\n",
       "       0., 0., 0., 0., 0., 0., 0., 0., 0., 0., 0., 0., 0., 0., 0., 0., 0.,\n",
       "       0., 0., 0., 0., 0., 0., 0., 0., 0., 0., 0., 0., 0., 0., 0., 0., 0.,\n",
       "       0., 0., 0., 0., 0., 0., 0., 0., 0., 0., 0., 0., 0., 0., 0., 0., 0.,\n",
       "       0., 0., 0., 0., 0., 0., 0., 0., 0., 0., 0., 0., 0., 0., 0., 0., 0.,\n",
       "       0., 0., 0., 0., 0., 0., 0.])"
      ]
     },
     "execution_count": 86,
     "metadata": {},
     "output_type": "execute_result"
    }
   ],
   "source": [
    "DCAT_x"
   ]
  },
  {
   "cell_type": "code",
   "execution_count": 87,
   "metadata": {
    "tags": []
   },
   "outputs": [
    {
     "data": {
      "text/plain": [
       "<matplotlib.legend.Legend at 0x22b31c32ad0>"
      ]
     },
     "execution_count": 87,
     "metadata": {},
     "output_type": "execute_result"
    },
    {
     "data": {
      "image/png": "[encoded data removed]",
      "text/plain": [
       "<Figure size 1000x500 with 1 Axes>"
      ]
     },
     "metadata": {},
     "output_type": "display_data"
    }
   ],
   "source": [
    "plt.figure(figsize=(10,5))\n",
    "# plt.axis([0,5,0.01,100])\n",
    "# plt.plot(Luca_merit, label='Luca', color='orange')\n",
    "plt.plot([FS_model.Psi(xx) for xx in FS_x_list], label='FS', color='blue')\n",
    "plt.plot([FS_model.Psi(xx) for xx in FW_x_list], label='FW', color='green')\n",
    "plt.plot([FS_model.Psi(xx) for xx in FISTA_F_x_list], label='FISTA_F', color='red')\n",
    "plt.plot([FS_model.Psi(xx) for xx in FISTA_M_x_list], label='FISTA_M', color='pink')\n",
    "plt.plot([FS_model.Psi(xx) for xx in DCA_x_list], label='DCA', color='orange')\n",
    "plt.plot([FS_model.Psi(xx) for xx in DCAE_x_list], label='DCAE', color='gold')\n",
    "plt.plot([FS_model.Psi(xx) for xx in DCAT_x_list], label='DCAT', color='orange')\n",
    "plt.plot([FS_model.Psi(xx) for xx in AVE_x_list], label='AVE', color='purple')\n",
    "plt.yscale('log')\n",
    "plt.grid()\n",
    "plt.legend()"
   ]
  },
  {
   "cell_type": "code",
   "execution_count": 69,
   "metadata": {
    "tags": []
   },
   "outputs": [
    {
     "data": {
      "text/plain": [
       "<matplotlib.legend.Legend at 0x22b3b5dd750>"
      ]
     },
     "execution_count": 69,
     "metadata": {},
     "output_type": "execute_result"
    },
    {
     "data": {
      "image/png": "[encoded data removed]",
      "text/plain": [
       "<Figure size 1000x500 with 1 Axes>"
      ]
     },
     "metadata": {},
     "output_type": "display_data"
    }
   ],
   "source": [
    "plt.figure(figsize=(10,5))\n",
    "# plt.xticks(range(len(FS_x)), range(len(FS_x)))\n",
    "# plt.plot(Luca_x, label='Luca', color='orange')\n",
    "plt.plot(FS_x, label='FS', color='blue')\n",
    "plt.plot(FW_x, label='FW', color='green')\n",
    "# plt.plot(FISTA_F_x, label='FISTA_F', color='red')\n",
    "# plt.plot(FISTA_M_x, label='FISTA_M', color='pink')\n",
    "# plt.plot(DCAE_x, label='DCAE', color='gold')\n",
    "# plt.plot(DCAT_x, label='DCAT', color='orange')\n",
    "plt.plot(AVE_x, label='AVE', color='purple')\n",
    "plt.legend()"
   ]
  },
  {
   "cell_type": "code",
   "execution_count": 70,
   "metadata": {
    "tags": []
   },
   "outputs": [
    {
     "name": "stdout",
     "output_type": "stream",
     "text": [
      "FS Merit = \t 1.1401505270772436e-30\n",
      "FW Merit = \t 1.5074638860707772e-29\n",
      "AVE Merit = \t 1.4422904167527132e-29\n"
     ]
    }
   ],
   "source": [
    "# Check merit function value\n",
    "# print('Luca Merit = \\t', FS_model.Psi(Luca_x))\n",
    "print('FS Merit = \\t', FS_model.Psi(FS_x))\n",
    "print('FW Merit = \\t', FS_model.Psi(FW_x))\n",
    "# print('FISTA_F Merit = \\t', FS_model.Psi(FISTA_F_x))\n",
    "# print('FISTA_M Merit = \\t', FS_model.Psi(FISTA_M_x))\n",
    "# print('DCAE Merit = \\t', FS_model.Psi(DCAE_x))\n",
    "# print('DCAT Merit = \\t', FS_model.Psi(DCAT_x))\n",
    "print('AVE Merit = \\t', FS_model.Psi(AVE_x))"
   ]
  },
  {
   "cell_type": "code",
   "execution_count": 71,
   "metadata": {
    "tags": []
   },
   "outputs": [
    {
     "data": {
      "image/png": "[encoded data removed]",
      "text/plain": [
       "<Figure size 1000x500 with 1 Axes>"
      ]
     },
     "metadata": {},
     "output_type": "display_data"
    }
   ],
   "source": [
    "plt.figure(figsize=(10,5))\n",
    "\n",
    "tr_list = AVE_x_list\n",
    "NN = len(tr_list)\n",
    "for i in range(NN):\n",
    "    plt.plot(tr_list[i], color='red', alpha=(1/NN)+(1/NN)*i)"
   ]
  },
  {
   "cell_type": "code",
   "execution_count": 82,
   "metadata": {
    "tags": []
   },
   "outputs": [
    {
     "ename": "ModuleNotFoundError",
     "evalue": "No module named 'cvxpy'",
     "output_type": "error",
     "traceback": [
      "\u001b[1;31m------------------------------------------------------------\u001b[0m",
      "\u001b[1;31mModuleNotFoundError\u001b[0m        Traceback (most recent call last)",
      "Cell \u001b[1;32mIn[82], line 1\u001b[0m\n\u001b[1;32m----> 1\u001b[0m \u001b[38;5;28;01mimport\u001b[39;00m \u001b[38;5;21;01mcvxpy\u001b[39;00m \u001b[38;5;28;01mas\u001b[39;00m \u001b[38;5;21;01mcp\u001b[39;00m\n",
      "\u001b[1;31mModuleNotFoundError\u001b[0m: No module named 'cvxpy'"
     ]
    }
   ],
   "source": [
    "import cvxpy as cp"
   ]
  },
  {
   "cell_type": "code",
   "execution_count": 2,
   "metadata": {},
   "outputs": [
    {
     "data": {
      "text/plain": [
       "['CVXOPT',\n",
       " 'ECOS',\n",
       " 'ECOS_BB',\n",
       " 'GLPK',\n",
       " 'GLPK_MI',\n",
       " 'GUROBI',\n",
       " 'MOSEK',\n",
       " 'OSQP',\n",
       " 'SCS']"
      ]
     },
     "execution_count": 2,
     "metadata": {},
     "output_type": "execute_result"
    }
   ],
   "source": [
    "cp.installed_solvers()"
   ]
  },
  {
   "cell_type": "code",
   "execution_count": 23,
   "metadata": {},
   "outputs": [],
   "source": [
    "N = 1000\n",
    "M, b = A6().coef(N)"
   ]
  },
  {
   "cell_type": "code",
   "execution_count": 24,
   "metadata": {},
   "outputs": [],
   "source": [
    "def cp_sol(solver_name):\n",
    "    x = cp.Variable(N)\n",
    "    objective   = cp.Minimize(np.ones(N)@x)\n",
    "    constraints = [M@x >= - b, x>=0]\n",
    "    prob = cp.Problem(objective, constraints)\n",
    "    prob.solve(solver=solver_name)\n",
    "    \n",
    "    return True"
   ]
  },
  {
   "cell_type": "code",
   "execution_count": 37,
   "metadata": {},
   "outputs": [
    {
     "name": "stdout",
     "output_type": "stream",
     "text": [
      "Wall time: 324 ms\n"
     ]
    }
   ],
   "source": [
    "%%time\n",
    "model = gp.Model()\n",
    "model.setParam('OutputFlag', 0) # Mute putput\n",
    "model.setParam('Method', 1)\n",
    "\n",
    "x = model.addMVar(N, lb=0.0)\n",
    "    \n",
    "model.setObjective(np.ones(N)@x)    \n",
    "model.addConstr(M@x >= - b)\n",
    "    \n",
    "\n",
    "model.optimize()\n"
   ]
  },
  {
   "cell_type": "code",
   "execution_count": 14,
   "metadata": {},
   "outputs": [
    {
     "name": "stdout",
     "output_type": "stream",
     "text": [
      "Changed value of parameter Method to 0\n",
      "   Prev: -1  Min: -1  Max: 5  Default: -1\n"
     ]
    }
   ],
   "source": []
  },
  {
   "cell_type": "code",
   "execution_count": 33,
   "metadata": {},
   "outputs": [
    {
     "name": "stdout",
     "output_type": "stream",
     "text": [
      "Wall time: 9.96 s\n"
     ]
    },
    {
     "data": {
      "text/plain": [
       "True"
      ]
     },
     "execution_count": 33,
     "metadata": {},
     "output_type": "execute_result"
    }
   ],
   "source": [
    "%%time\n",
    "cp_sol(cp.GUROBI)"
   ]
  },
  {
   "cell_type": "code",
   "execution_count": 34,
   "metadata": {},
   "outputs": [
    {
     "name": "stdout",
     "output_type": "stream",
     "text": [
      "Wall time: 8.44 s\n"
     ]
    },
    {
     "data": {
      "text/plain": [
       "True"
      ]
     },
     "execution_count": 34,
     "metadata": {},
     "output_type": "execute_result"
    }
   ],
   "source": [
    "%%time\n",
    "cp_sol(cp.ECOS)"
   ]
  },
  {
   "cell_type": "code",
   "execution_count": 35,
   "metadata": {},
   "outputs": [
    {
     "name": "stdout",
     "output_type": "stream",
     "text": [
      "Wall time: 1.12 s\n"
     ]
    },
    {
     "data": {
      "text/plain": [
       "True"
      ]
     },
     "execution_count": 35,
     "metadata": {},
     "output_type": "execute_result"
    }
   ],
   "source": [
    "%%time\n",
    "cp_sol(cp.GLPK)"
   ]
  },
  {
   "cell_type": "code",
   "execution_count": 36,
   "metadata": {},
   "outputs": [
    {
     "name": "stdout",
     "output_type": "stream",
     "text": [
      "Wall time: 4.44 s\n"
     ]
    },
    {
     "data": {
      "text/plain": [
       "True"
      ]
     },
     "execution_count": 36,
     "metadata": {},
     "output_type": "execute_result"
    }
   ],
   "source": [
    "%%time\n",
    "cp_sol(cp.SCS)"
   ]
  },
  {
   "cell_type": "code",
   "execution_count": 37,
   "metadata": {},
   "outputs": [
    {
     "name": "stdout",
     "output_type": "stream",
     "text": [
      "Wall time: 1min 4s\n"
     ]
    },
    {
     "data": {
      "text/plain": [
       "True"
      ]
     },
     "execution_count": 37,
     "metadata": {},
     "output_type": "execute_result"
    }
   ],
   "source": [
    "%%time\n",
    "cp_sol(cp.GLPK_MI)"
   ]
  },
  {
   "cell_type": "code",
   "execution_count": null,
   "metadata": {},
   "outputs": [],
   "source": []
  }
 ],
 "metadata": {
  "kernelspec": {
   "display_name": "Python 3 (ipykernel)",
   "language": "python",
   "name": "python3"
  },
  "language_info": {
   "codemirror_mode": {
    "name": "ipython",
    "version": 3
   },
   "file_extension": ".py",
   "mimetype": "text/x-python",
   "name": "python",
   "nbconvert_exporter": "python",
   "pygments_lexer": "ipython3",
   "version": "3.11.5"
  }
 },
 "nbformat": 4,
 "nbformat_minor": 4
}
