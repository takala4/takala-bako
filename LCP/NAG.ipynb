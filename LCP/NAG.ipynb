{
 "cells": [
  {
   "cell_type": "code",
   "execution_count": 118,
   "metadata": {},
   "outputs": [],
   "source": [
    "import numpy as np\n",
    "import math\n",
    "import gurobipy as gp\n",
    "\n",
    "\n",
    "import matplotlib.pyplot as plt\n",
    "%matplotlib inline\n",
    "\n",
    "class model:\n",
    "    def __init__(self, N, func, dfunc):\n",
    "        self.func = func\n",
    "        self.dfunc = dfunc\n",
    "        self.N = N\n",
    "        \n",
    "        \n",
    "    def solve(self, x0=None, L=0.001, err=10**(-6), max_itr=100):\n",
    "        dimension = self.N\n",
    "\n",
    "    \n",
    "        if type(x0) == type(None):\n",
    "            x = np.ones(self.N)\n",
    "        else:\n",
    "            x = x0\n",
    "            \n",
    "        x_list = [x]\n",
    "\n",
    "\n",
    "        lambda_prev = 0\n",
    "        lambda_curr = 1\n",
    "        gamma = 1\n",
    "        x_prev = x\n",
    "        alpha = 0.05 / (2 * L)\n",
    "        \n",
    "        L_tmp = 1\n",
    "\n",
    "        # Set initial gradient\n",
    "        y = x_prev\n",
    "        gradient = self.dfunc(y)\n",
    "\n",
    "        for i in range(max_itr):\n",
    "            x_curr = y - alpha * gradient\n",
    "            y = (1 - gamma) * x_curr + gamma * x_prev\n",
    "            x_prev = x_curr\n",
    "    \n",
    "            lambda_tmp = lambda_curr\n",
    "            lambda_curr = (1 + math.sqrt(1 + 4 * lambda_prev * lambda_prev)) / 2\n",
    "            lambda_prev = lambda_tmp\n",
    "    \n",
    "            gamma = (1 - lambda_prev) / lambda_curr\n",
    "    \n",
    "\n",
    "            gradient = self.dfunc(y)\n",
    "            x_list = x_list + [x_curr]\n",
    "\n",
    "            if self.func(x_curr) <= err:\n",
    "                break\n",
    "\n",
    "        return x_curr, x_list\n",
    "            \n",
    "    def solve_Back(self, x0=None, L=10, err=10**(-6), max_itr=100):\n",
    "\n",
    "        dimension = self.N\n",
    "        if type(x0) == type(None):\n",
    "            x = np.ones(self.N)\n",
    "        else:\n",
    "            x = x0\n",
    "            \n",
    "        x_list = [x]\n",
    "\n",
    "\n",
    "        lambda_prev = 0\n",
    "        lambda_curr = 1\n",
    "        gamma = 1\n",
    "        x_prev = x\n",
    "        alpha = 0.05 / (2 * L)\n",
    "        \n",
    "        L_prev = L\n",
    "\n",
    "        # Set initial gradient\n",
    "        y = x_prev\n",
    "        gradient = self.dfunc(y)\n",
    "        \n",
    "        \n",
    "        def calc_L(x_prev, y_prev, L_prev, lambda_cur, lambda_prev, gradient_prev):\n",
    "            i = 0\n",
    "            eta = 1.1\n",
    "            gamma_tmp = (1 - lambda_prev) / lambda_curr\n",
    "            \n",
    "            while True:\n",
    "                L_tmp = (L_prev)*(eta**(i))\n",
    "                alpha_tmp = 0.05 / (2 * L_tmp)\n",
    "                x_curr_tmp = y_prev - alpha_tmp * gradient_prev\n",
    "                \n",
    "                F = self.func(x_curr_tmp)\n",
    "                Q = self.func(y_prev) + (x_curr_tmp - y_prev)@self.dfunc(y_prev) + (L_tmp/(0.05))*(np.linalg.norm(x_curr_tmp - y_prev))**2\n",
    "                \n",
    "                \n",
    "                if F<= Q:\n",
    "                    break\n",
    "                else:\n",
    "                    i = i+1\n",
    "            if i != 0:\n",
    "                print(i)\n",
    "                print('F=', F)\n",
    "                print('Q=', Q)\n",
    "            return L_tmp\n",
    "                \n",
    "\n",
    "        for i in range(max_itr):\n",
    "            \n",
    "            \n",
    "            L_curr = calc_L(x_prev, y, L_prev, lambda_curr, lambda_prev, gradient)\n",
    "            \n",
    "            \n",
    "            alpha = 0.05/(2*L_curr)\n",
    "            x_curr = y - alpha * gradient\n",
    "            y = (1 - gamma) * x_curr + gamma * x_prev\n",
    "            x_prev = x_curr\n",
    "    \n",
    "            lambda_tmp = lambda_curr\n",
    "            lambda_curr = (1 + math.sqrt(1 + 4 * lambda_prev * lambda_prev)) / 2\n",
    "            lambda_prev = lambda_tmp\n",
    "    \n",
    "            gamma = (1 - lambda_prev) / lambda_curr\n",
    "    \n",
    "\n",
    "            gradient = self.dfunc(y)\n",
    "            x_list = x_list + [x_curr]\n",
    "\n",
    "            if self.func(x_curr) <= err:\n",
    "                break\n",
    "            \n",
    "            L_prev = L_curr\n",
    "\n",
    "        return x_curr, x_list"
   ]
  },
  {
   "cell_type": "code",
   "execution_count": 119,
   "metadata": {},
   "outputs": [],
   "source": [
    "N = 10\n",
    "# M = np.random.rand(N, N)\n",
    "\n",
    "def f(x):\n",
    "    return 0.5*(x@x)\n",
    "def df(x):\n",
    "    return x\n",
    "\n",
    "m = model(10, f, df)"
   ]
  },
  {
   "cell_type": "code",
   "execution_count": 124,
   "metadata": {},
   "outputs": [
    {
     "name": "stdout",
     "output_type": "stream",
     "text": [
      "10\n",
      "F= 0.006531140016196811\n",
      "Q= 0.18070888213085734\n"
     ]
    }
   ],
   "source": [
    "x, x_list = m.solve(L=1)\n",
    "xB, xB_list = m.solve_Back(L=0.01)"
   ]
  },
  {
   "cell_type": "code",
   "execution_count": 125,
   "metadata": {},
   "outputs": [
    {
     "data": {
      "text/plain": [
       "<matplotlib.legend.Legend at 0x2a74523c108>"
      ]
     },
     "execution_count": 125,
     "metadata": {},
     "output_type": "execute_result"
    },
    {
     "data": {
      "image/png": "[encoded data removed]",
      "text/plain": [
       "<Figure size 720x360 with 1 Axes>"
      ]
     },
     "metadata": {
      "needs_background": "light"
     },
     "output_type": "display_data"
    }
   ],
   "source": [
    "plt.figure(figsize=(10,5))\n",
    "plt.plot([f(i) for i in x_list], label='NAG', color='red')\n",
    "plt.plot([f(i) for i in xB_list], label='NAGB', color='pink')\n",
    "plt.yscale('log')\n",
    "plt.legend()"
   ]
  },
  {
   "cell_type": "code",
   "execution_count": null,
   "metadata": {},
   "outputs": [],
   "source": []
  }
 ],
 "metadata": {
  "kernelspec": {
   "display_name": "Python 3 (ipykernel)",
   "language": "python",
   "name": "python3"
  },
  "language_info": {
   "codemirror_mode": {
    "name": "ipython",
    "version": 3
   },
   "file_extension": ".py",
   "mimetype": "text/x-python",
   "name": "python",
   "nbconvert_exporter": "python",
   "pygments_lexer": "ipython3",
   "version": "3.11.5"
  }
 },
 "nbformat": 4,
 "nbformat_minor": 4
}
