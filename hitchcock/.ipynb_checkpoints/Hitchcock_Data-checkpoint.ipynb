{
 "cells": [
  {
   "cell_type": "code",
   "execution_count": 1,
   "metadata": {},
   "outputs": [],
   "source": [
    "import numpy as np\n",
    "import pandas as pd"
   ]
  },
  {
   "cell_type": "code",
   "execution_count": 22,
   "metadata": {},
   "outputs": [],
   "source": [
    "# Parameter\n",
    "C_max = 60 # max transportaion cost\n",
    "C_min = 40 # minimun transportation cost\n",
    "\n",
    "N = 10 \n",
    "total_demand = 1000 \n",
    "\n",
    "\n",
    "# Create random data\n",
    "C = np.random.randint(C_min, C_max, (N,N))\n",
    "\n",
    "O_tmp = np.random.rand(N)\n",
    "O = (total_demand * O_tmp/O_tmp.sum()).astype(int)\n",
    "O[-1] = O[-1] + (total_demand - O.sum())\n",
    "\n",
    "D_tmp = np.random.rand(N)\n",
    "D = (total_demand * D_tmp/D_tmp.sum()).astype(int)\n",
    "D[-1] = D[-1] + (total_demand - D.sum())\n",
    "                 \n",
    "\n",
    "# Output data set\n",
    "pd.DataFrame(O).to_csv('O.csv', encoding='utf-8-sig', index=False, header=False)\n",
    "pd.DataFrame(D).to_csv('D.csv', encoding='utf-8-sig', index=False, header=False)\n",
    "pd.DataFrame(C).to_csv('C.csv', encoding='utf-8-sig', index=False, header=False)"
   ]
  },
  {
   "cell_type": "code",
   "execution_count": null,
   "metadata": {},
   "outputs": [],
   "source": []
  }
 ],
 "metadata": {
  "kernelspec": {
   "display_name": "Python 3",
   "language": "python",
   "name": "python3"
  },
  "language_info": {
   "codemirror_mode": {
    "name": "ipython",
    "version": 3
   },
   "file_extension": ".py",
   "mimetype": "text/x-python",
   "name": "python",
   "nbconvert_exporter": "python",
   "pygments_lexer": "ipython3",
   "version": "3.6.4"
  }
 },
 "nbformat": 4,
 "nbformat_minor": 2
}
