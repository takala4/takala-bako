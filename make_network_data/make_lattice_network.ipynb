{
 "cells": [
  {
   "cell_type": "markdown",
   "metadata": {},
   "source": [
    "# Tool of Making the Lattice Network"
   ]
  },
  {
   "cell_type": "markdown",
   "metadata": {},
   "source": [
    "## Import modules"
   ]
  },
  {
   "cell_type": "code",
   "execution_count": 31,
   "metadata": {},
   "outputs": [],
   "source": [
    "# import module\n",
    "import numpy as np\n",
    "import pandas as pd\n",
    "import networkx as nx\n",
    "import json as json\n",
    "\n",
    "import matplotlib.pyplot as plt\n",
    "%matplotlib inline"
   ]
  },
  {
   "cell_type": "markdown",
   "metadata": {},
   "source": [
    "## Functions"
   ]
  },
  {
   "cell_type": "code",
   "execution_count": 32,
   "metadata": {},
   "outputs": [],
   "source": [
    "# create column function\n",
    "def create_column(n, tr_row_id):\n",
    "    link_dic = {}\n",
    "    node_dic = {}\n",
    "    for i in range(n):\n",
    "        node_id = str((tr_row_id-1)*n + i+1)\n",
    "        node_dic[node_id] = {}\n",
    "        node_dic[node_id]['x_pos'] = tr_row_id\n",
    "        node_dic[node_id]['y_pos'] = i+1\n",
    "        \n",
    "        next_node_id = str(int(node_id)+1)\n",
    "        if i < n-1:\n",
    "            \n",
    "            link1_id = node_id + '_' + next_node_id\n",
    "            link2_id = next_node_id + '_' + node_id\n",
    "            \n",
    "            link_dic[link1_id] = {}\n",
    "            link_dic[link1_id]['from_node_id'] = node_id\n",
    "            link_dic[link1_id]['to_node_id'] = next_node_id\n",
    "\n",
    "            link_dic[link2_id] = {}\n",
    "            link_dic[link2_id]['from_node_id'] = next_node_id\n",
    "            link_dic[link2_id]['to_node_id'] = node_id\n",
    "            \n",
    "    return link_dic, node_dic"
   ]
  },
  {
   "cell_type": "code",
   "execution_count": 33,
   "metadata": {},
   "outputs": [],
   "source": [
    "# add column function\n",
    "def add_column(n, network_dic, tr_row_id, new_link_dic, new_node_dic):\n",
    "    \n",
    "    #add new link_dic, node_dic\n",
    "    network_dic['link_dic'].update(new_link_dic)\n",
    "    network_dic['node_dic'].update(new_node_dic)\n",
    "    \n",
    "    # connect\n",
    "    for node_id in new_node_dic.keys():\n",
    "        left_node_id = str(int(node_id) - n)\n",
    "        \n",
    "        link1_id = node_id + '_' + left_node_id\n",
    "        link2_id = left_node_id + '_' + node_id\n",
    "            \n",
    "        network_dic['link_dic'][link1_id] = {}\n",
    "        network_dic['link_dic'][link1_id]['from_node_id'] = node_id\n",
    "        network_dic['link_dic'][link1_id]['to_node_id'] = left_node_id\n",
    "\n",
    "        network_dic['link_dic'][link2_id] = {}\n",
    "        network_dic['link_dic'][link2_id]['from_node_id'] = left_node_id\n",
    "        network_dic['link_dic'][link2_id]['to_node_id'] = node_id\n",
    "        \n",
    "    return network_dic"
   ]
  },
  {
   "cell_type": "code",
   "execution_count": 34,
   "metadata": {},
   "outputs": [],
   "source": [
    "# make lattice network function\n",
    "def make_lattice(n):\n",
    "    network_dic = {}\n",
    "    network_dic['link_dic'], network_dic['node_dic'] = create_column(n, 1)\n",
    "    \n",
    "    for row_id in range(2,n+1):\n",
    "        new_link_dic, new_node_dic = create_column(n, row_id)\n",
    "        network_dic = add_column(n, network_dic, row_id, new_link_dic, new_node_dic)\n",
    "            \n",
    "    return network_dic"
   ]
  },
  {
   "cell_type": "markdown",
   "metadata": {},
   "source": [
    "## Create network data"
   ]
  },
  {
   "cell_type": "code",
   "execution_count": 35,
   "metadata": {},
   "outputs": [],
   "source": [
    "# Number of nodes in a column (or row)\n",
    "n = 3\n",
    "network_dic = make_lattice(n)"
   ]
  },
  {
   "cell_type": "code",
   "execution_count": 36,
   "metadata": {},
   "outputs": [],
   "source": [
    "# you can save network_dic as json file\n",
    "\n",
    "save = True\n",
    "path = 'network.json'\n",
    "if save:\n",
    "    f = open(path,'w', encoding='utf-8-sig')\n",
    "    json.dump(network_dic, f, indent=2)\n",
    "    f.close()"
   ]
  },
  {
   "cell_type": "markdown",
   "metadata": {},
   "source": [
    "## Visualize network with nx"
   ]
  },
  {
   "cell_type": "code",
   "execution_count": 37,
   "metadata": {},
   "outputs": [],
   "source": [
    "G = nx.DiGraph()"
   ]
  },
  {
   "cell_type": "code",
   "execution_count": 38,
   "metadata": {},
   "outputs": [],
   "source": [
    "for tr_link in network_dic['link_dic'].keys():\n",
    "    G.add_edge(network_dic['link_dic'][tr_link]['from_node_id'], network_dic['link_dic'][tr_link]['to_node_id'])\n",
    "    \n",
    "pos_dic = {tr_node : [network_dic['node_dic'][tr_node]['x_pos'], network_dic['node_dic'][tr_node]['y_pos']] for tr_node in network_dic['node_dic'].keys()}"
   ]
  },
  {
   "cell_type": "code",
   "execution_count": 39,
   "metadata": {},
   "outputs": [
    {
     "data": {
      "image/png": "[encoded data removed]",
      "text/plain": [
       "<Figure size 432x288 with 1 Axes>"
      ]
     },
     "metadata": {
      "needs_background": "light"
     },
     "output_type": "display_data"
    }
   ],
   "source": [
    "nx.draw_networkx(G, pos=pos_dic)"
   ]
  }
 ],
 "metadata": {
  "kernelspec": {
   "display_name": "Python 3",
   "language": "python",
   "name": "python3"
  },
  "language_info": {
   "codemirror_mode": {
    "name": "ipython",
    "version": 3
   },
   "file_extension": ".py",
   "mimetype": "text/x-python",
   "name": "python",
   "nbconvert_exporter": "python",
   "pygments_lexer": "ipython3",
   "version": "3.6.4"
  }
 },
 "nbformat": 4,
 "nbformat_minor": 2
}
